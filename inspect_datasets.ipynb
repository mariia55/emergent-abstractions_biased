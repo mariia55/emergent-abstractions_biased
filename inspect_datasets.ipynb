{
 "cells": [
  {
   "cell_type": "code",
   "execution_count": 2,
   "id": "ad924661",
   "metadata": {},
   "outputs": [],
   "source": [
    "import torch\n",
    "import os"
   ]
  },
  {
   "cell_type": "code",
   "execution_count": null,
   "id": "216952ab",
   "metadata": {},
   "outputs": [
    {
     "name": "stderr",
     "output_type": "stream",
     "text": [
      "C:\\Users\\Isabella\\AppData\\Local\\Temp\\ipykernel_12984\\3154757982.py:2: FutureWarning: You are using `torch.load` with `weights_only=False` (the current default value), which uses the default pickle module implicitly. It is possible to construct malicious pickle data which will execute arbitrary code during unpickling (See https://github.com/pytorch/pytorch/blob/main/SECURITY.md#untrusted-models for more details). In a future release, the default value for `weights_only` will be flipped to `True`. This limits the functions that could be executed during unpickling. Arbitrary objects will no longer be allowed to be loaded via this mode unless they are explicitly allowlisted by the user via `torch.serialization.add_safe_globals`. We recommend you start setting `weights_only=True` for any use case where you don't have full control of the loaded file. Please open an issue on GitHub for any issues related to this experimental feature.\n",
      "  zs_specific_ds = torch.load(dataset_path, map_location=torch.device('cpu') )\n"
     ]
    }
   ],
   "source": [
    "dataset_path = os.getcwd() + '/dataset/feat_rep_zero_concept_dataset_specific.pt'\n",
    "zs_specific_ds = torch.load(dataset_path, map_location=torch.device('cpu') )"
   ]
  },
  {
   "cell_type": "code",
   "execution_count": 5,
   "id": "8be0795e",
   "metadata": {},
   "outputs": [
    {
     "name": "stdout",
     "output_type": "stream",
     "text": [
      "Train samples: 810\n",
      "Val samples: 270\n",
      "Test samples: 1920\n",
      "\n",
      "Train example 0:\n",
      "  Sender input shape: torch.Size([20, 100])\n",
      "  Receiver label: tensor([0., 1., 1., 1., 0., 1., 1., 0., 0., 1., 0., 0., 0., 0., 0., 1., 1., 1.,\n",
      "        0., 1.])\n",
      "  Receiver input shape: torch.Size([20, 100])\n",
      "\n",
      "Train example 1:\n",
      "  Sender input shape: torch.Size([20, 100])\n",
      "  Receiver label: tensor([1., 1., 0., 0., 1., 1., 0., 0., 0., 0., 1., 1., 1., 1., 0., 1., 0., 0.,\n",
      "        0., 1.])\n",
      "  Receiver input shape: torch.Size([20, 100])\n",
      "\n",
      "Test example 0:\n",
      "  Sender input shape: torch.Size([20, 100])\n",
      "  Receiver label: tensor([0., 1., 1., 0., 0., 1., 0., 1., 0., 1., 0., 1., 0., 1., 1., 0., 1., 1.,\n",
      "        0., 0.])\n",
      "  Receiver input shape: torch.Size([20, 100])\n",
      "\n",
      "Test example 1:\n",
      "  Sender input shape: torch.Size([20, 100])\n",
      "  Receiver label: tensor([1., 1., 0., 1., 0., 1., 0., 1., 1., 0., 0., 1., 0., 1., 0., 0., 0., 0.,\n",
      "        1., 1.])\n",
      "  Receiver input shape: torch.Size([20, 100])\n"
     ]
    }
   ],
   "source": [
    "train, val, test  = zs_specific_ds.dataset\n",
    "\n",
    "print(f\"Train samples: {len(train)}\")\n",
    "print(f\"Val samples: {len(val)}\")\n",
    "print(f\"Test samples: {len(test)}\")\n",
    "\n",
    "# Print a few examples from each split\n",
    "for i in range(2):\n",
    "    sender_input, receiver_label, receiver_input = train[i]\n",
    "    print(f\"\\nTrain example {i}:\")\n",
    "    print(\"  Sender input shape:\", sender_input.shape)\n",
    "    print(\"  Receiver label:\", receiver_label)\n",
    "    print(\"  Receiver input shape:\", receiver_input.shape)\n",
    "\n",
    "for i in range(2):\n",
    "    sender_input, receiver_label, receiver_input = test[i]\n",
    "    print(f\"\\nTest example {i}:\")\n",
    "    print(\"  Sender input shape:\", sender_input.shape)\n",
    "    print(\"  Receiver label:\", receiver_label)\n",
    "    print(\"  Receiver input shape:\", receiver_input.shape)"
   ]
  },
  {
   "cell_type": "code",
   "execution_count": null,
   "id": "66650ca1",
   "metadata": {},
   "outputs": [],
   "source": []
  }
 ],
 "metadata": {
  "kernelspec": {
   "display_name": "emergab",
   "language": "python",
   "name": "python3"
  },
  "language_info": {
   "codemirror_mode": {
    "name": "ipython",
    "version": 3
   },
   "file_extension": ".py",
   "mimetype": "text/x-python",
   "name": "python",
   "nbconvert_exporter": "python",
   "pygments_lexer": "ipython3",
   "version": "3.9.21"
  }
 },
 "nbformat": 4,
 "nbformat_minor": 5
}
