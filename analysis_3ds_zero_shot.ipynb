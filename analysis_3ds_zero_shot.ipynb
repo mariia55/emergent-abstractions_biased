{
 "cells": [
  {
   "cell_type": "code",
   "execution_count": 1,
   "id": "ec59c7d8",
   "metadata": {},
   "outputs": [],
   "source": [
    "from utils.load_results import *\n",
    "from utils.plot_helpers import *\n",
    "from utils.analysis_from_interaction import error_analysis\n",
    "\n",
    "import pandas as pd\n",
    "import seaborn as sns\n",
    "from matplotlib import pyplot as plt\n",
    "plt.style.use('default')\n",
    "import random\n",
    "from seaborn.algorithms import bootstrap"
   ]
  },
  {
   "cell_type": "markdown",
   "id": "bc59ca3e",
   "metadata": {},
   "source": [
    "# Check Dataset\n",
    "\n",
    "A higher number of fixed attributes (more 1s in the fixed vector) means fewer objects match all constraints, resulting in fewer target objects.\n",
    "The number of target objects for a concept depends on the \"fixed vector\":\n",
    "Each 1 in the fixed vector means that attribute is fixed (i.e., must have a specific value).\n",
    "The more attributes are fixed, the fewer objects satisfy all fixed constraints.\n",
    "For concept_idx = 6, more attributes are fixed compared to more generic concepts, so there are fewer possible target objects."
   ]
  },
  {
   "cell_type": "code",
   "execution_count": 2,
   "id": "5989aee8",
   "metadata": {},
   "outputs": [
    {
     "name": "stderr",
     "output_type": "stream",
     "text": [
      "C:\\Users\\Isabella\\AppData\\Local\\Temp\\ipykernel_9892\\1913290924.py:3: FutureWarning: You are using `torch.load` with `weights_only=False` (the current default value), which uses the default pickle module implicitly. It is possible to construct malicious pickle data which will execute arbitrary code during unpickling (See https://github.com/pytorch/pytorch/blob/main/SECURITY.md#untrusted-models for more details). In a future release, the default value for `weights_only` will be flipped to `True`. This limits the functions that could be executed during unpickling. Arbitrary objects will no longer be allowed to be loaded via this mode unless they are explicitly allowlisted by the user via `torch.serialization.add_safe_globals`. We recommend you start setting `weights_only=True` for any use case where you don't have full control of the loaded file. Please open an issue on GitHub for any issues related to this experimental feature.\n",
      "  data_zero_shot = torch.load(zero_shot_dataset_path, map_location=torch.device('cpu') )\n"
     ]
    }
   ],
   "source": [
    "from dataset import *\n",
    "zero_shot_dataset_path = 'dataset/feat_rep_zero_concept_dataset'\n",
    "data_zero_shot = torch.load(zero_shot_dataset_path, map_location=torch.device('cpu') )"
   ]
  },
  {
   "cell_type": "code",
   "execution_count": 4,
   "id": "64ca4ffa",
   "metadata": {},
   "outputs": [
    {
     "name": "stdout",
     "output_type": "stream",
     "text": [
      "Concept at index  6 :\n",
      "  Target objects: [(0.0, 1.25, 1.0)]\n",
      "  Fixed vector: (1, 1, 1)\n",
      "- - - - - - - - - - - - - - - - - - - -\n",
      "Max context condition for this concept: 3\n",
      "Get sample for concept_idx =  6  and context_condition =  2\n"
     ]
    },
    {
     "data": {
      "text/plain": [
       "([[(0.0, 1.25, 1.0),\n",
       "   (0.0, 1.25, 1.0),\n",
       "   (0.0, 1.25, 1.0),\n",
       "   (0.0, 1.25, 1.0),\n",
       "   (0.0, 1.25, 1.0),\n",
       "   (0.0, 1.25, 1.0),\n",
       "   (0.0, 1.25, 1.0),\n",
       "   (0.0, 1.25, 1.0),\n",
       "   (0.0, 1.25, 1.0),\n",
       "   (0.0, 1.25, 1.0)],\n",
       "  (1, 1, 1)],\n",
       " [[[(0.0, 1.25, 3.0),\n",
       "    (0.0, 1.1071428571428572, 1.0),\n",
       "    (0.2, 1.25, 1.0),\n",
       "    (0.4, 1.25, 1.0),\n",
       "    (0.4, 1.25, 1.0),\n",
       "    (0.8, 1.25, 1.0),\n",
       "    (0.0, 0.75, 1.0),\n",
       "    (0.2, 1.25, 1.0),\n",
       "    (0.2, 1.25, 1.0),\n",
       "    (0.2, 1.25, 1.0)],\n",
       "   2]])"
      ]
     },
     "execution_count": 4,
     "metadata": {},
     "output_type": "execute_result"
    }
   ],
   "source": [
    "concepts = data_zero_shot.get_all_concepts()\n",
    "\n",
    "concept_idx = 6\n",
    "print(\"Concept at index \", concept_idx, \":\")\n",
    "print(\"  Target objects:\", concepts[concept_idx][0])\n",
    "print(\"  Fixed vector:\", concepts[concept_idx][1])\n",
    "\n",
    "\n",
    "print(\"- - - - - - - - - - - - - - - - - - - -\")\n",
    "concept_idx = 6\n",
    "max_context_condition = sum(concepts[concept_idx][1])\n",
    "print(\"Max context condition for this concept:\", max_context_condition)\n",
    "context_condition = 2\n",
    "\n",
    "print(\"Get sample for concept_idx = \", concept_idx, \" and context_condition = \", context_condition)\n",
    "data_zero_shot.get_sample(concept_idx, context_condition)"
   ]
  },
  {
   "cell_type": "code",
   "execution_count": 5,
   "id": "47daf5e6",
   "metadata": {},
   "outputs": [
    {
     "name": "stdout",
     "output_type": "stream",
     "text": [
      "- - - - - - - - - - - - - - - - - - - -\n",
      "Returned tuple structure:\n",
      "  sender_input shape: 2\n",
      "  receiver_label shape: 1\n"
     ]
    }
   ],
   "source": [
    "print(\"- - - - - - - - - - - - - - - - - - - -\")\n",
    "# - sender_input: (sender_input_objects, sender_labels)\n",
    "# - labels: indices of target objects in the receiver_input\n",
    "# - receiver_input: receiver_input_objects\n",
    "\n",
    "sender_input, receiver_label = data_zero_shot.get_sample(concept_idx, context_condition)\n",
    "print(\"Returned tuple structure:\")\n",
    "print(\"  sender_input shape:\", len(sender_input))\n",
    "print(\"  receiver_label shape:\", len(receiver_label))\n",
    "#print(\"  receiver_input shape:\", len(receiver_input))"
   ]
  },
  {
   "cell_type": "code",
   "execution_count": 16,
   "id": "1cf0c0fd",
   "metadata": {},
   "outputs": [
    {
     "name": "stdout",
     "output_type": "stream",
     "text": [
      "(96000, 100)\n"
     ]
    }
   ],
   "source": [
    "images = data_zero_shot.images\n",
    "labels = data_zero_shot.labels\n",
    "\n",
    "print(images.shape)"
   ]
  },
  {
   "cell_type": "markdown",
   "id": "412592e4",
   "metadata": {},
   "source": [
    "# ZeroShot Quantitative analyses\n",
    "Reproduction of the results from the paper \"Agents can generalize to novel levels of abstraction with the help of language\" using the 3dshapes dataset.\n"
   ]
  },
  {
   "cell_type": "code",
   "execution_count": 7,
   "id": "8ad1bd61",
   "metadata": {},
   "outputs": [],
   "source": [
    "game_size = 10\n",
    "n_values = [4,]\n",
    "n_attributes = [3,]\n",
    "n_epochs = 300\n",
    "n_datasets = 2 #len(datasets)\n",
    "datasets = ['(3,4)',]\n",
    "n_runs = 2\n",
    "path_3ds_zs = ['results/3dshapes/' + 'shapes3d_feat_rep_game_size_' + str(game_size) + '_vsf_3']\n",
    "path_zs = ['results/(3,4)_game_size_10_vsf_3']\n"
   ]
  },
  {
   "cell_type": "code",
   "execution_count": 4,
   "id": "cf699b1a",
   "metadata": {},
   "outputs": [],
   "source": [
    "context_unaware = False # whether original or context_unaware simulations are evaluated\n",
    "if context_unaware:\n",
    "    setting = 'context_unaware'\n",
    "else:\n",
    "    setting = 'standard' # context-aware"
   ]
  },
  {
   "cell_type": "code",
   "execution_count": 8,
   "id": "e1f9b871",
   "metadata": {},
   "outputs": [],
   "source": [
    "# 3dshapes \n",
    "all_accuracies_3ds = load_accuracies(path_3ds_zs, n_runs=n_runs, n_epochs=300, val_steps=1, zero_shot=True, context_unaware=context_unaware)\n",
    "\n",
    "# to specific\n",
    "zs_specific_train_acc_3ds = all_accuracies_3ds['zs_specific_train_acc']\n",
    "zs_specific_val_acc_3ds = all_accuracies_3ds['zs_specific_val_acc']\n",
    "zs_specific_test_acc_3ds = all_accuracies_3ds['zs_specific_test_acc']\n",
    "zs_specific_train_message_length_3ds = all_accuracies_3ds['zs_specific_train_message_length']\n",
    "\n",
    "# to generic\n",
    "zs_generic_train_acc_3ds = all_accuracies_3ds['zs_generic_train_acc']\n",
    "zs_generic_val_acc_3ds = all_accuracies_3ds['zs_generic_val_acc']\n",
    "zs_generic_test_acc_3ds = all_accuracies_3ds['zs_generic_test_acc']\n",
    "zs_generic_train_message_length_3ds = all_accuracies_3ds['zs_generic_train_message_length']\n"
   ]
  },
  {
   "cell_type": "code",
   "execution_count": 9,
   "id": "2f7f0e89",
   "metadata": {},
   "outputs": [],
   "source": [
    "# Not 3dshapes\n",
    "all_accuracies = load_accuracies(path_zs, n_runs=n_runs, n_epochs=300, val_steps=1, zero_shot=True, context_unaware=context_unaware)\n",
    "\n",
    "# to specific\n",
    "zs_specific_train_acc = all_accuracies['zs_specific_train_acc']\n",
    "zs_specific_val_acc = all_accuracies['zs_specific_val_acc']\n",
    "zs_specific_test_acc = all_accuracies['zs_specific_test_acc']\n",
    "zs_specific_train_message_length = all_accuracies['zs_specific_train_message_length']\n",
    "\n",
    "# to generic\n",
    "zs_generic_train_acc = all_accuracies['zs_generic_train_acc']\n",
    "zs_generic_val_acc = all_accuracies['zs_generic_val_acc']\n",
    "zs_generic_test_acc = all_accuracies['zs_generic_test_acc']\n",
    "zs_generic_train_message_length = all_accuracies['zs_generic_train_message_length']"
   ]
  },
  {
   "cell_type": "markdown",
   "id": "6838311d",
   "metadata": {},
   "source": [
    "### Comparing Training and Validation \"To Specific\""
   ]
  },
  {
   "cell_type": "code",
   "execution_count": 11,
   "id": "91f7b648",
   "metadata": {},
   "outputs": [
    {
     "name": "stdout",
     "output_type": "stream",
     "text": [
      "Final Training Accuracies (to specific):\n",
      "                training     validation\n",
      "shapes3d  (0.919, 0.004)  (0.87, 0.005)\n",
      "standard  (0.996, 0.003)  (0.98, 0.009)\n"
     ]
    }
   ],
   "source": [
    "# Final Training Accuracies\n",
    "zs_specific_final_accuracies_train_3ds = {}\n",
    "zs_specific_final_accuracies_train_st = {}\n",
    "\n",
    "for i, d in enumerate(datasets):\n",
    "    gather_accuracies_3ds = []\n",
    "    gather_accuracies_st = []\n",
    "\n",
    "    for run in range(n_runs):\n",
    "        gather_accuracies_3ds.append(all_accuracies_3ds['zs_specific_train_acc'][i][run][-1])\n",
    "        gather_accuracies_st.append(all_accuracies['zs_specific_train_acc'][i][run][-1])\n",
    "    zs_specific_final_accuracies_train_3ds = (round(np.mean(gather_accuracies_3ds), 3), round(np.std(gather_accuracies_3ds), 3))\n",
    "    zs_specific_final_accuracies_train_st = (round(np.mean(gather_accuracies_st), 3), round(np.std(gather_accuracies_st), 3))\n",
    "\n",
    "# Final Validation accuracies\n",
    "zs_specific_final_accuracies_val_3ds = {}\n",
    "zs_specific_final_accuracies_val_st = {}\n",
    "\n",
    "for i, d in enumerate(datasets):\n",
    "    gather_accuracies_3ds = []\n",
    "    gather_accuracies_st = []\n",
    "\n",
    "    for run in range(n_runs):\n",
    "        gather_accuracies_3ds.append(all_accuracies_3ds['zs_specific_val_acc'][i][run][-1])\n",
    "        gather_accuracies_st.append(all_accuracies['zs_specific_val_acc'][i][run][-1])\n",
    "    zs_specific_final_accuracies_val_3ds = (round(np.mean(gather_accuracies_3ds), 3), round(np.std(gather_accuracies_3ds), 3))\n",
    "    zs_specific_final_accuracies_val_st = (round(np.mean(gather_accuracies_st), 3), round(np.std(gather_accuracies_st), 3))\n",
    "\n",
    "data = {'training': [zs_specific_final_accuracies_train_3ds, zs_specific_final_accuracies_train_st], \n",
    "        'validation': [zs_specific_final_accuracies_val_3ds, zs_specific_final_accuracies_val_st]}\n",
    "comparison_to_specific = pd.DataFrame(data=data, index=[\"shapes3d\", \"standard\"])\n",
    "\n",
    "latex_table_1 = comparison_to_specific.to_latex(index=True, escape=False)\n",
    "\n",
    "print(\"Final Training Accuracies (to specific):\")\n",
    "print(comparison_to_specific)\n",
    "# Paper: 0.99, 0.98"
   ]
  },
  {
   "cell_type": "code",
   "execution_count": 12,
   "id": "fd04184f",
   "metadata": {},
   "outputs": [
    {
     "data": {
      "image/png": "[encoded data removed]",
      "text/plain": [
       "<Figure size 1000x700 with 1 Axes>"
      ]
     },
     "metadata": {},
     "output_type": "display_data"
    }
   ],
   "source": [
    "plot_training_trajectory(shapes3d=True, results_train=all_accuracies_3ds['zs_specific_train_acc'], results_val=all_accuracies_3ds['zs_specific_val_acc'], ylim=(0.5, 1), steps=(1, 1), plot_indices=(1, ), plot_shape=(1, 1))"
   ]
  },
  {
   "cell_type": "markdown",
   "id": "2856a5f4",
   "metadata": {},
   "source": [
    "### Comparing Final Training Accuracies (to generic)"
   ]
  },
  {
   "cell_type": "code",
   "execution_count": 13,
   "id": "955ae75a",
   "metadata": {},
   "outputs": [],
   "source": [
    "# Final Training Accuracies\n",
    "zs_generic_final_accuracies_train_3ds = {}\n",
    "zs_generic_final_accuracies_train_st = {}\n",
    "\n",
    "for i, d in enumerate(datasets):\n",
    "    gather_accuracies_3ds = []\n",
    "    gather_accuracies_st = []\n",
    "\n",
    "    for run in range(n_runs):\n",
    "        gather_accuracies_3ds.append(all_accuracies_3ds['zs_generic_train_acc'][i][run][-1])\n",
    "        gather_accuracies_st.append(all_accuracies['zs_generic_train_acc'][i][run][-1])\n",
    "    zs_generic_final_accuracies_train_3ds = (round(np.mean(gather_accuracies_3ds), 3), round(np.std(gather_accuracies_3ds), 3))\n",
    "    zs_generic_final_accuracies_train_st = (round(np.mean(gather_accuracies_st), 3), round(np.std(gather_accuracies_st), 3))\n",
    "\n",
    "# Final Validation accuracies\n",
    "zs_generic_final_accuracies_val_3ds = {}\n",
    "zs_generic_final_accuracies_val_st = {}\n",
    "\n",
    "for i, d in enumerate(datasets):\n",
    "    gather_accuracies_3ds = []\n",
    "    gather_accuracies_st = []\n",
    "\n",
    "    for run in range(n_runs):\n",
    "        gather_accuracies_3ds.append(all_accuracies_3ds['zs_generic_val_acc'][i][run][-1])\n",
    "        gather_accuracies_st.append(all_accuracies['zs_generic_val_acc'][i][run][-1])\n",
    "    zs_generic_final_accuracies_val_3ds = (round(np.mean(gather_accuracies_3ds), 3), round(np.std(gather_accuracies_3ds), 3))\n",
    "    zs_generic_final_accuracies_val_st = (round(np.mean(gather_accuracies_st), 3), round(np.std(gather_accuracies_st), 3))"
   ]
  },
  {
   "cell_type": "code",
   "execution_count": null,
   "id": "55e273f8",
   "metadata": {},
   "outputs": [
    {
     "name": "stdout",
     "output_type": "stream",
     "text": [
      "Final Training Accuracies (to generic):\n",
      "                training      validation\n",
      "shapes3d  (0.925, 0.001)  (0.896, 0.004)\n",
      "standard  (0.988, 0.006)  (0.976, 0.012)\n"
     ]
    }
   ],
   "source": [
    "data = {'training': [zs_generic_final_accuracies_train_3ds, zs_generic_final_accuracies_train_st], \n",
    "        'validation': [zs_generic_final_accuracies_val_3ds, zs_generic_final_accuracies_val_st]}\n",
    "\n",
    "comparison_to_generic = pd.DataFrame(data=data, index=[\"shapes3d\", \"standard\"])\n",
    "latex_table_2 = comparison_to_generic.to_latex(index=True, escape=False)\n",
    "\n",
    "print(\"Final Training Accuracies (to generic):\")\n",
    "print(comparison_to_generic)\n",
    "# Paper: 0.99, 0.98"
   ]
  },
  {
   "cell_type": "markdown",
   "id": "37865aec",
   "metadata": {},
   "source": [
    "### Comparing Test Accuracies "
   ]
  },
  {
   "cell_type": "code",
   "execution_count": 15,
   "id": "4c123963",
   "metadata": {},
   "outputs": [],
   "source": [
    "# 3dshapes\n",
    "zs_specific_test_acc_mean_3ds = np.mean(zs_specific_test_acc_3ds)\n",
    "zs_generic_test_acc_mean_3ds = np.mean(zs_generic_test_acc_3ds)\n",
    "\n",
    "# standard\n",
    "zs_specific_test_acc_mean = np.mean(zs_specific_test_acc)\n",
    "zs_generic_test_acc_mean = np.mean(zs_generic_test_acc)"
   ]
  },
  {
   "cell_type": "code",
   "execution_count": null,
   "id": "7ee0b7f4",
   "metadata": {},
   "outputs": [
    {
     "name": "stdout",
     "output_type": "stream",
     "text": [
      "Comparing Test accuracies (both conditions):\n",
      "          to specific  to generic\n",
      "shapes3d     0.882279    0.727292\n",
      "standard     0.900964    0.695833\n"
     ]
    }
   ],
   "source": [
    "data = {'to specific': [zs_specific_test_acc_mean_3ds, zs_specific_test_acc_mean], \n",
    "        'to generic': [zs_generic_test_acc_mean_3ds, zs_generic_test_acc_mean]}\n",
    "\n",
    "comparison_test_acc = pd.DataFrame(data=data, index=[\"shapes3d\", \"standard\"])\n",
    "latex_table_3 = comparison_test_acc.to_latex(index=True, escape=False)\n",
    "\n",
    "print(\"Comparing Test accuracies (both conditions):\")\n",
    "print(comparison_test_acc)\n",
    "# Previous results:\n",
    "# shapes3d     0.823766    0.844885"
   ]
  },
  {
   "cell_type": "markdown",
   "id": "03f1cbfe",
   "metadata": {},
   "source": [
    "### Comparing NMI"
   ]
  },
  {
   "cell_type": "code",
   "execution_count": 18,
   "id": "7154ec45",
   "metadata": {},
   "outputs": [],
   "source": [
    "# 3dshapes\n",
    "zs_entropy_scores_specific_3ds, zs_entropy_scores_generic_3ds = load_entropies_zero_shot(path_3ds_zs, n_runs=n_runs, context_unaware=context_unaware, zero_shot_test_ds='test_sampled_unscaled')  \n",
    "entropies_specific_3ds = [zs_entropy_scores_specific_3ds['NMI'], zs_entropy_scores_specific_3ds['effectiveness'], zs_entropy_scores_specific_3ds['consistency']]\n",
    "entropies_generic_3ds = [zs_entropy_scores_generic_3ds['NMI'], zs_entropy_scores_generic_3ds['effectiveness'], zs_entropy_scores_generic_3ds['consistency']]\n",
    "\n",
    "# standard\n",
    "zs_entropy_scores_specific_st, zs_entropy_scores_generic_st = load_entropies_zero_shot(path_zs, n_runs=n_runs, context_unaware=context_unaware, zero_shot_test_ds='test_sampled_unscaled')  \n",
    "entropies_specific_st = [zs_entropy_scores_specific_st['NMI'], zs_entropy_scores_specific_st['effectiveness'], zs_entropy_scores_specific_st['consistency']]\n",
    "entropies_generic_st = [zs_entropy_scores_generic_st['NMI'], zs_entropy_scores_generic_st['effectiveness'], zs_entropy_scores_generic_st['consistency']]"
   ]
  },
  {
   "cell_type": "code",
   "execution_count": 19,
   "id": "4c4545ba",
   "metadata": {},
   "outputs": [
    {
     "name": "stdout",
     "output_type": "stream",
     "text": [
      "Comparing NMI (both conditions):\n",
      "          to specific  to generic\n",
      "shapes3d     0.598968    0.705746\n",
      "standard     0.933480    0.876079\n"
     ]
    }
   ],
   "source": [
    "data = {'to specific': [np.mean(entropies_specific_3ds[0]), np.mean(entropies_specific_st[0])], \n",
    "        'to generic': [np.mean(entropies_generic_3ds[0]), np.mean(entropies_generic_st[0])]}\n",
    "\n",
    "comparison_entropy = pd.DataFrame(data=data, index=[\"shapes3d\", \"standard\"])\n",
    "latex_table_2 = comparison_entropy.to_latex(index=True, escape=False)\n",
    "\n",
    "\n",
    "print(\"Comparing NMI (both conditions):\")\n",
    "print(comparison_entropy)\n",
    "# Paper: 0.93, 0.87"
   ]
  },
  {
   "cell_type": "code",
   "execution_count": null,
   "id": "a0610e2d",
   "metadata": {},
   "outputs": [],
   "source": []
  }
 ],
 "metadata": {
  "kernelspec": {
   "display_name": "emergab",
   "language": "python",
   "name": "python3"
  },
  "language_info": {
   "codemirror_mode": {
    "name": "ipython",
    "version": 3
   },
   "file_extension": ".py",
   "mimetype": "text/x-python",
   "name": "python",
   "nbconvert_exporter": "python",
   "pygments_lexer": "ipython3",
   "version": "3.9.21"
  }
 },
 "nbformat": 4,
 "nbformat_minor": 5
}
